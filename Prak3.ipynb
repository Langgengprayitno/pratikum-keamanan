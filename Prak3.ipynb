{
 "cells": [
  {
   "cell_type": "code",
   "execution_count": 14,
   "id": "9e3521d0-ad4c-4fc7-9a99-fff8fca7df6d",
   "metadata": {},
   "outputs": [
    {
     "name": "stdout",
     "output_type": "stream",
     "text": [
      "Pesan asli : mata air kehidupan\n",
      "Keyword    : mataram\n",
      "Hasil enkripsi: yama aud deyipgptn\n"
     ]
    }
   ],
   "source": [
    "def generate_key(message: str, keyword: str) -> str:\n",
    "    \"\"\"\n",
    "    Menyesuaikan panjang keyword\n",
    "    \"\"\"\n",
    "    keyword = list(keyword)\n",
    "    if len(message) == len(keyword):\n",
    "        return \"\".join(keyword)\n",
    "    else:\n",
    "        for i in range(len(message) - len(keyword)):\n",
    "            keyword.append(keyword[i % len(keyword)])\n",
    "    return \"\".join(keyword)\n",
    "\n",
    "def encrypt_vigenere(plain_text: str, keyword: str) -> str:\n",
    "    \"\"\"\n",
    "    Mengenkripsi plain_text\n",
    "    \"\"\"\n",
    "    encrypted_text = []\n",
    "    key = generate_key(plain_text, keyword)\n",
    "\n",
    "    for i in range(len(plain_text)):\n",
    "        if plain_text[i].isalpha():\n",
    "            shift = ord(key[i].upper()) - ord('A')\n",
    "            if plain_text[i].isupper():\n",
    "                encrypted_char = chr((ord(plain_text[i]) - ord('A') + shift) % 26 + ord('A'))\n",
    "            else:\n",
    "                encrypted_char = chr((ord(plain_text[i]) - ord('a') + shift) % 26 + ord('a'))\n",
    "            encrypted_text.append(encrypted_char)\n",
    "        else:\n",
    "            encrypted_text.append(plain_text[i])\n",
    "\n",
    "    return \"\".join(encrypted_text)\n",
    "\n",
    "message = \"mata air kehidupan\"\n",
    "keyword = \"mataram\"\n",
    "encrypted = encrypt_vigenere(message, keyword)\n",
    "\n",
    "print(\"Pesan asli :\", message)\n",
    "print(\"Keyword    :\", keyword)\n",
    "print(\"Hasil enkripsi:\", encrypted)\n"
   ]
  },
  {
   "cell_type": "code",
   "execution_count": null,
   "id": "b6be0d65-564f-4b06-a469-40250c059580",
   "metadata": {},
   "outputs": [],
   "source": []
  }
 ],
 "metadata": {
  "kernelspec": {
   "display_name": "Python 3 (ipykernel)",
   "language": "python",
   "name": "python3"
  },
  "language_info": {
   "codemirror_mode": {
    "name": "ipython",
    "version": 3
   },
   "file_extension": ".py",
   "mimetype": "text/x-python",
   "name": "python",
   "nbconvert_exporter": "python",
   "pygments_lexer": "ipython3",
   "version": "3.12.7"
  }
 },
 "nbformat": 4,
 "nbformat_minor": 5
}
