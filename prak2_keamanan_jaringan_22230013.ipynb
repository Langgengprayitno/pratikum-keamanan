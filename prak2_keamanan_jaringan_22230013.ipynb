{
 "cells": [
  {
   "cell_type": "code",
   "execution_count": 1,
   "id": "295018c1-1053-4208-99a2-69c00e6e9abd",
   "metadata": {},
   "outputs": [
    {
     "name": "stdout",
     "output_type": "stream",
     "text": [
      "Plaintext  : Hello Everyone!\n",
      "Shift Value: 3\n",
      "Ciphertext : Khoor Hyhubrqh!\n"
     ]
    }
   ],
   "source": [
    "# Implementasi Caesar Cipher di Jupyter Notebook\n",
    "\n",
    "def caesar_cipher(text, shift):\n",
    "    result = \"\"\n",
    "\n",
    "    for ch in text:\n",
    "        if ch.isupper():  # Jika huruf besar\n",
    "            result += chr((ord(ch) - 65 + shift) % 26 + 65)\n",
    "        elif ch.islower():  # Jika huruf kecil\n",
    "            result += chr((ord(ch) - 97 + shift) % 26 + 97)\n",
    "        else:\n",
    "            result += ch  # Karakter lain tetap sama\n",
    "\n",
    "    return result\n",
    "\n",
    "\n",
    "# Contoh penggunaan\n",
    "plaintext = \"Hello Everyone!\"\n",
    "shift_value = 3\n",
    "\n",
    "ciphertext = caesar_cipher(plaintext, shift_value)\n",
    "print(\"Plaintext  :\", plaintext)\n",
    "print(\"Shift Value:\", shift_value)\n",
    "print(\"Ciphertext :\", ciphertext)\n"
   ]
  },
  {
   "cell_type": "code",
   "execution_count": null,
   "id": "9850b01a-d0e2-46ce-8cb8-cf78a23c2898",
   "metadata": {},
   "outputs": [],
   "source": []
  }
 ],
 "metadata": {
  "kernelspec": {
   "display_name": "Python 3 (ipykernel)",
   "language": "python",
   "name": "python3"
  },
  "language_info": {
   "codemirror_mode": {
    "name": "ipython",
    "version": 3
   },
   "file_extension": ".py",
   "mimetype": "text/x-python",
   "name": "python",
   "nbconvert_exporter": "python",
   "pygments_lexer": "ipython3",
   "version": "3.12.7"
  }
 },
 "nbformat": 4,
 "nbformat_minor": 5
}
