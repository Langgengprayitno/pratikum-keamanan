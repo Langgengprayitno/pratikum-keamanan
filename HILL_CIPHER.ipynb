{
 "cells": [
  {
   "cell_type": "code",
   "execution_count": 4,
   "id": "114a192e-86a2-4336-a0c6-36674873f24c",
   "metadata": {},
   "outputs": [
    {
     "name": "stdout",
     "output_type": "stream",
     "text": [
      "=== PROGRAM HILL CIPHER ===\n"
     ]
    },
    {
     "name": "stdin",
     "output_type": "stream",
     "text": [
      "Masukkan ukuran matriks kunci (contoh: 2 untuk 2x2):  2\n"
     ]
    },
    {
     "name": "stdout",
     "output_type": "stream",
     "text": [
      "Masukkan elemen-elemen matriks kunci 2x2 (pisahkan dengan spasi):\n"
     ]
    },
    {
     "name": "stdin",
     "output_type": "stream",
     "text": [
      "Baris 1:  10 5\n",
      "Baris 2:  5 10\n",
      "Masukkan teks asli (plaintext):  langgeng prayitno\n"
     ]
    },
    {
     "name": "stdout",
     "output_type": "stream",
     "text": [
      "Hasil Enkripsi (ciphertext): GDEVCSEVBLQGTWSX\n",
      "Hasil Dekripsi: LANGGENGPRAYITNO\n"
     ]
    }
   ],
   "source": [
    "import numpy as np\n",
    "\n",
    "# Fungsi untuk mengubah huruf menjadi angka (A=0, B=1, ..., Z=25)\n",
    "def huruf_ke_angka(huruf):\n",
    "    return ord(huruf.upper()) - ord('A')\n",
    "\n",
    "# Fungsi untuk mengubah angka menjadi huruf\n",
    "def angka_ke_huruf(angka):\n",
    "    return chr((angka % 26) + ord('A'))\n",
    "\n",
    "# Fungsi untuk mengubah teks menjadi matriks numerik\n",
    "def teks_ke_matriks(teks, ukuran):\n",
    "    teks = teks.upper().replace(\" \", \"\")\n",
    "    while len(teks) % ukuran != 0:\n",
    "        teks += 'X'  # tambahkan padding jika perlu\n",
    "    matriks = []\n",
    "    for i in range(0, len(teks), ukuran):\n",
    "        baris = [huruf_ke_angka(h) for h in teks[i:i+ukuran]]\n",
    "        matriks.append(baris)\n",
    "    return np.array(matriks).T  # Transpose agar kolom jadi vektor\n",
    "\n",
    "# Proses enkripsi\n",
    "def enkripsi_hill(teks, matriks_kunci):\n",
    "    ukuran = matriks_kunci.shape[0]\n",
    "    matriks_teks = teks_ke_matriks(teks, ukuran)\n",
    "    hasil = np.dot(matriks_kunci, matriks_teks) % 26\n",
    "    teks_sandi = ''.join([angka_ke_huruf(int(nilai)) for kolom in hasil.T for nilai in kolom])\n",
    "    return teks_sandi\n",
    "\n",
    "# Proses dekripsi\n",
    "def dekripsi_hill(teks_sandi, matriks_kunci):\n",
    "    ukuran = matriks_kunci.shape[0]\n",
    "    matriks_sandi = teks_ke_matriks(teks_sandi, ukuran)\n",
    "    determinan = int(round(np.linalg.det(matriks_kunci)))\n",
    "    try:\n",
    "        invers_det = pow(determinan, -1, 26)\n",
    "    except ValueError:\n",
    "        print(\"Matriks kunci tidak bisa dibalik (invers modulo 26 tidak ada).\")\n",
    "        exit()\n",
    "\n",
    "    # Hitung invers matriks kunci dalam modulo 26\n",
    "    matriks_invers = (invers_det * np.round(determinan * np.linalg.inv(matriks_kunci)).astype(int)) % 26\n",
    "    hasil = np.dot(matriks_invers, matriks_sandi) % 26\n",
    "    teks_dekripsi = ''.join([angka_ke_huruf(int(nilai)) for kolom in hasil.T for nilai in kolom])\n",
    "    return teks_dekripsi\n",
    "\n",
    "print(\"=== PROGRAM HILL CIPHER ===\")\n",
    "\n",
    "# Input ukuran matriks kunci\n",
    "ukuran = int(input(\"Masukkan ukuran matriks kunci (contoh: 2 untuk 2x2): \"))\n",
    "\n",
    "# Input elemen-elemen matriks kunci\n",
    "print(f\"Masukkan elemen-elemen matriks kunci {ukuran}x{ukuran} (pisahkan dengan spasi):\")\n",
    "matriks_kunci = []\n",
    "for i in range(ukuran):\n",
    "    baris = list(map(int, input(f\"Baris {i+1}: \").split()))\n",
    "    matriks_kunci.append(baris)\n",
    "\n",
    "matriks_kunci = np.array(matriks_kunci)\n",
    "\n",
    "# Cek validitas determinan\n",
    "determinan = int(round(np.linalg.det(matriks_kunci)))\n",
    "try:\n",
    "    pow(determinan, -1, 26)\n",
    "except ValueError:\n",
    "    print(\"Matriks kunci tidak valid (determinan tidak memiliki invers modulo 26).\")\n",
    "    exit()\n",
    "\n",
    "# Input plaintext\n",
    "plaintext = input(\"Masukkan teks asli (plaintext): \")\n",
    "\n",
    "# Enkripsi\n",
    "ciphertext = enkripsi_hill(plaintext, matriks_kunci)\n",
    "print(\"Hasil Enkripsi (ciphertext):\", ciphertext)\n",
    "\n",
    "# Dekripsi\n",
    "hasil_dekripsi = dekripsi_hill(ciphertext, matriks_kunci)\n",
    "print(\"Hasil Dekripsi:\", hasil_dekripsi)\n"
   ]
  },
  {
   "cell_type": "code",
   "execution_count": 2,
   "id": "64bbd154-f625-47db-bdf9-8b28214b20c7",
   "metadata": {},
   "outputs": [
    {
     "name": "stdout",
     "output_type": "stream",
     "text": [
      "=== CEK MATRKS KUNCI HILL CIPHER ===\n"
     ]
    },
    {
     "name": "stdin",
     "output_type": "stream",
     "text": [
      "Masukkan ukuran matriks persegi (misal 2 untuk 2x2):  2\n",
      "Masukkan baris 1 (pisahkan dengan spasi):  10 5\n",
      "Masukkan baris 2 (pisahkan dengan spasi):  5 10\n"
     ]
    },
    {
     "name": "stdout",
     "output_type": "stream",
     "text": [
      "Matriks kunci yang dimasukkan:\n",
      "[[10  5]\n",
      " [ 5 10]]\n",
      "Determinan: 75\n",
      "✅ Matriks kunci VALID untuk Hill Cipher (bisa dienkripsi dan didekripsi).\n"
     ]
    }
   ],
   "source": [
    "import numpy as np\n",
    "from math import gcd\n",
    "\n",
    "def cek_validitas_matriks(matriks):\n",
    "    try:\n",
    "        determinan = int(round(np.linalg.det(matriks)))\n",
    "        print(\"Determinan:\", determinan)\n",
    "\n",
    "        # Cek apakah determinan memiliki invers mod 26\n",
    "        if gcd(determinan, 26) == 1 and determinan % 26 != 0:\n",
    "            print(\"✅ Matriks kunci VALID untuk Hill Cipher (bisa dienkripsi dan didekripsi).\")\n",
    "        else:\n",
    "            print(\"❌ Matriks TIDAK VALID. Determinan tidak relatif prima dengan 26 atau nol.\")\n",
    "    except:\n",
    "        print(\"Terjadi kesalahan saat menghitung determinan. Pastikan matriks berbentuk persegi.\")\n",
    "        \n",
    "print(\"=== CEK MATRKS KUNCI HILL CIPHER ===\")\n",
    "n = int(input(\"Masukkan ukuran matriks persegi (misal 2 untuk 2x2): \"))\n",
    "\n",
    "matriks = []\n",
    "for i in range(n):\n",
    "    baris = list(map(int, input(f\"Masukkan baris {i+1} (pisahkan dengan spasi): \").split()))\n",
    "    matriks.append(baris)\n",
    "\n",
    "matriks = np.array(matriks)\n",
    "print(\"Matriks kunci yang dimasukkan:\")\n",
    "print(matriks)\n",
    "\n",
    "cek_validitas_matriks(matriks)\n"
   ]
  },
  {
   "cell_type": "code",
   "execution_count": null,
   "id": "f62bfb72-a27f-4341-a7e0-decb0ae50de4",
   "metadata": {},
   "outputs": [],
   "source": []
  }
 ],
 "metadata": {
  "kernelspec": {
   "display_name": "Python 3 (ipykernel)",
   "language": "python",
   "name": "python3"
  },
  "language_info": {
   "codemirror_mode": {
    "name": "ipython",
    "version": 3
   },
   "file_extension": ".py",
   "mimetype": "text/x-python",
   "name": "python",
   "nbconvert_exporter": "python",
   "pygments_lexer": "ipython3",
   "version": "3.12.7"
  }
 },
 "nbformat": 4,
 "nbformat_minor": 5
}
